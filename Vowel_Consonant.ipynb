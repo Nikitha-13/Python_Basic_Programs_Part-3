{
 "cells": [
  {
   "cell_type": "code",
   "execution_count": null,
   "metadata": {},
   "outputs": [],
   "source": [
    "# Program to count number of vowels and consonants that exists in a given string!! \n",
    "\n",
    "def vowel_consonant(input_str):\n",
    "    vowels = \"aeiouAEIOU\"\n",
    "    consonants = \"bcdfghjklmnpqrstvwxyzBCDFGHJKLMNPQRSTVWXYZ\"\n",
    "\n",
    "    vowel_count = sum(1 for char in input_str if char in vowels)\n",
    "    consonant_count = sum(1 for char in input_str if char in consonants)\n",
    "\n",
    "    return vowel_count, consonant_count\n",
    "\n",
    "input_string = input(\"Entar a string : \")\n",
    "vowels, consonants = vowel_consonant(input_string)\n",
    "\n",
    "print(f\"{vowels} : vowels\")\n",
    "print(f\"{consonants} : consonants\")"
   ]
  }
 ],
 "metadata": {
  "kernelspec": {
   "display_name": "Python 3",
   "language": "python",
   "name": "python3"
  },
  "language_info": {
   "codemirror_mode": {
    "name": "ipython",
    "version": 3
   },
   "file_extension": ".py",
   "mimetype": "text/x-python",
   "name": "python",
   "nbconvert_exporter": "python",
   "pygments_lexer": "ipython3",
   "version": "3.7.8"
  },
  "orig_nbformat": 4
 },
 "nbformat": 4,
 "nbformat_minor": 2
}
