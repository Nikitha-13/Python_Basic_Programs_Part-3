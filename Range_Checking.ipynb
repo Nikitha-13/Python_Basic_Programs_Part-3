{
 "cells": [
  {
   "cell_type": "code",
   "execution_count": 3,
   "metadata": {},
   "outputs": [
    {
     "name": "stdout",
     "output_type": "stream",
     "text": [
      "23 is not in the range between start and end range\n"
     ]
    }
   ],
   "source": [
    "# Program to check the range of a number\n",
    "\n",
    "def range(number, start, end):\n",
    "    return start <= number <= end\n",
    "\n",
    "range_num = int(input(\"Enter a number : \"))\n",
    "start_num = 2\n",
    "end_num = 20\n",
    "\n",
    "if range(range_num, start_num, end_num):\n",
    "    print(range_num, \"is in the range between start and end range\")\n",
    "else:\n",
    "    print(range_num, \"is not in the range between start and end range\")"
   ]
  }
 ],
 "metadata": {
  "kernelspec": {
   "display_name": "Python 3",
   "language": "python",
   "name": "python3"
  },
  "language_info": {
   "codemirror_mode": {
    "name": "ipython",
    "version": 3
   },
   "file_extension": ".py",
   "mimetype": "text/x-python",
   "name": "python",
   "nbconvert_exporter": "python",
   "pygments_lexer": "ipython3",
   "version": "3.7.8"
  },
  "orig_nbformat": 4
 },
 "nbformat": 4,
 "nbformat_minor": 2
}
