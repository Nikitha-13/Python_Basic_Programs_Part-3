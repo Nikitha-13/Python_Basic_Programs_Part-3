{
 "cells": [
  {
   "cell_type": "code",
   "execution_count": null,
   "metadata": {},
   "outputs": [],
   "source": [
    "# Program to check whether the given string starts with a vowel or not\n",
    "\n",
    "str = input(\"Enter a string : \")\n",
    "\n",
    "if (str[0] == 'a' or str[0] == 'e' or str[0] == 'i' or str[0] == 'o' or str[0] == 'u'):\n",
    "    print(f\"{str}, starts with a vowel\")\n",
    "else:\n",
    "    print(f\"{str}, starts with a consonant\")"
   ]
  },
  {
   "cell_type": "code",
   "execution_count": null,
   "metadata": {},
   "outputs": [],
   "source": [
    "# Program to check whether the given string ends with a vowel or not\n",
    "\n",
    "str = input(\"Enter a string : \")\n",
    "\n",
    "if (str[-1] == 'a' or str[-1] == 'e' or str[-1] == 'i' or str[-1] == 'o' or str[-1] == 'u'):\n",
    "    print(f\"{str}, ends with a vowel\")\n",
    "else:\n",
    "    print(f\"{str}, ends with a consonant\")"
   ]
  }
 ],
 "metadata": {
  "kernelspec": {
   "display_name": "Python 3",
   "language": "python",
   "name": "python3"
  },
  "language_info": {
   "codemirror_mode": {
    "name": "ipython",
    "version": 3
   },
   "file_extension": ".py",
   "mimetype": "text/x-python",
   "name": "python",
   "nbconvert_exporter": "python",
   "pygments_lexer": "ipython3",
   "version": "3.7.8"
  },
  "orig_nbformat": 4
 },
 "nbformat": 4,
 "nbformat_minor": 2
}
