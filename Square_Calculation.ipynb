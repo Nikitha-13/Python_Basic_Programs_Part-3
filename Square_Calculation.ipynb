{
 "cells": [
  {
   "cell_type": "code",
   "execution_count": null,
   "metadata": {},
   "outputs": [],
   "source": [
    "#Program to find Square of a number\n",
    "def cal_square(num):\n",
    "    square = num ** 2\n",
    "    print(f\"The square of {num} is : {square}\")\n",
    "\n",
    "number = int(input(\"Enter a number : \"))\n",
    "cal_square(number)"
   ]
  }
 ],
 "metadata": {
  "language_info": {
   "name": "python"
  },
  "orig_nbformat": 4
 },
 "nbformat": 4,
 "nbformat_minor": 2
}
